{
  "nbformat": 4,
  "nbformat_minor": 0,
  "metadata": {
    "colab": {
      "provenance": []
    },
    "kernelspec": {
      "name": "python3",
      "display_name": "Python 3"
    },
    "language_info": {
      "name": "python"
    }
  },
  "cells": [
    {
      "cell_type": "markdown",
      "source": [
        "### PySpark Intro"
      ],
      "metadata": {
        "id": "XyjeDoiLrAku"
      }
    },
    {
      "cell_type": "code",
      "execution_count": 2,
      "metadata": {
        "colab": {
          "base_uri": "https://localhost:8080/"
        },
        "id": "Yy9qD6G3STyn",
        "outputId": "351d57b4-d442-4f96-a169-c200753883d1"
      },
      "outputs": [
        {
          "output_type": "stream",
          "name": "stdout",
          "text": [
            "Collecting pyspark\n",
            "  Downloading pyspark-3.5.1.tar.gz (317.0 MB)\n",
            "\u001b[2K     \u001b[90m━━━━━━━━━━━━━━━━━━━━━━━━━━━━━━━━━━━━━━━━\u001b[0m \u001b[32m317.0/317.0 MB\u001b[0m \u001b[31m2.5 MB/s\u001b[0m eta \u001b[36m0:00:00\u001b[0m\n",
            "\u001b[?25h  Preparing metadata (setup.py) ... \u001b[?25l\u001b[?25hdone\n",
            "Requirement already satisfied: py4j==0.10.9.7 in /usr/local/lib/python3.10/dist-packages (from pyspark) (0.10.9.7)\n",
            "Building wheels for collected packages: pyspark\n",
            "  Building wheel for pyspark (setup.py) ... \u001b[?25l\u001b[?25hdone\n",
            "  Created wheel for pyspark: filename=pyspark-3.5.1-py2.py3-none-any.whl size=317488491 sha256=43b2bdb5cad17058bbcb1d260d00c61a222769e4a1ecbba21bc8e77d10fc6701\n",
            "  Stored in directory: /root/.cache/pip/wheels/80/1d/60/2c256ed38dddce2fdd93be545214a63e02fbd8d74fb0b7f3a6\n",
            "Successfully built pyspark\n",
            "Installing collected packages: pyspark\n",
            "Successfully installed pyspark-3.5.1\n"
          ]
        }
      ],
      "source": [
        "!pip install pyspark"
      ]
    },
    {
      "cell_type": "code",
      "source": [
        "import pyspark"
      ],
      "metadata": {
        "id": "H9mT-2jhSYVQ"
      },
      "execution_count": 3,
      "outputs": []
    },
    {
      "cell_type": "code",
      "source": [
        "from pyspark.sql import SparkSession"
      ],
      "metadata": {
        "id": "2A45NFGpT915"
      },
      "execution_count": 4,
      "outputs": []
    },
    {
      "cell_type": "code",
      "source": [
        "spark = SparkSession.builder.appName('Tutorial').getOrCreate()"
      ],
      "metadata": {
        "id": "M-lZn563T-u7"
      },
      "execution_count": 5,
      "outputs": []
    },
    {
      "cell_type": "code",
      "source": [
        "spark"
      ],
      "metadata": {
        "colab": {
          "base_uri": "https://localhost:8080/",
          "height": 219
        },
        "id": "pbhkXi4gT_rb",
        "outputId": "91418e6f-6be0-4c48-9f3e-95df3f851b45"
      },
      "execution_count": 6,
      "outputs": [
        {
          "output_type": "execute_result",
          "data": {
            "text/plain": [
              "<pyspark.sql.session.SparkSession at 0x7b691bee4970>"
            ],
            "text/html": [
              "\n",
              "            <div>\n",
              "                <p><b>SparkSession - in-memory</b></p>\n",
              "                \n",
              "        <div>\n",
              "            <p><b>SparkContext</b></p>\n",
              "\n",
              "            <p><a href=\"http://fdadaee6d5bd:4040\">Spark UI</a></p>\n",
              "\n",
              "            <dl>\n",
              "              <dt>Version</dt>\n",
              "                <dd><code>v3.5.1</code></dd>\n",
              "              <dt>Master</dt>\n",
              "                <dd><code>local[*]</code></dd>\n",
              "              <dt>AppName</dt>\n",
              "                <dd><code>Tutorial</code></dd>\n",
              "            </dl>\n",
              "        </div>\n",
              "        \n",
              "            </div>\n",
              "        "
            ]
          },
          "metadata": {},
          "execution_count": 6
        }
      ]
    },
    {
      "cell_type": "code",
      "source": [
        "df_spark = spark.read.option('header','true').csv('Iris.csv')"
      ],
      "metadata": {
        "id": "OQ84peDNUFny"
      },
      "execution_count": 7,
      "outputs": []
    },
    {
      "cell_type": "code",
      "source": [
        "df_spark.show()"
      ],
      "metadata": {
        "colab": {
          "base_uri": "https://localhost:8080/"
        },
        "id": "qfSqZ42pVFtY",
        "outputId": "af26e5fe-c7cf-4400-a335-e102f8e4a673"
      },
      "execution_count": 8,
      "outputs": [
        {
          "output_type": "stream",
          "name": "stdout",
          "text": [
            "+---+-------------+------------+-------------+------------+-----------+\n",
            "| Id|SepalLengthCm|SepalWidthCm|PetalLengthCm|PetalWidthCm|    Species|\n",
            "+---+-------------+------------+-------------+------------+-----------+\n",
            "|  1|          5.1|         3.5|          1.4|         0.2|Iris-setosa|\n",
            "|  2|          4.9|         3.0|          1.4|         0.2|Iris-setosa|\n",
            "|  3|          4.7|         3.2|          1.3|         0.2|Iris-setosa|\n",
            "|  4|          4.6|         3.1|          1.5|         0.2|Iris-setosa|\n",
            "|  5|          5.0|         3.6|          1.4|         0.2|Iris-setosa|\n",
            "|  6|          5.4|         3.9|          1.7|         0.4|Iris-setosa|\n",
            "|  7|          4.6|         3.4|          1.4|         0.3|Iris-setosa|\n",
            "|  8|          5.0|         3.4|          1.5|         0.2|Iris-setosa|\n",
            "|  9|          4.4|         2.9|          1.4|         0.2|Iris-setosa|\n",
            "| 10|          4.9|         3.1|          1.5|         0.1|Iris-setosa|\n",
            "| 11|          5.4|         3.7|          1.5|         0.2|Iris-setosa|\n",
            "| 12|          4.8|         3.4|          1.6|         0.2|Iris-setosa|\n",
            "| 13|          4.8|         3.0|          1.4|         0.1|Iris-setosa|\n",
            "| 14|          4.3|         3.0|          1.1|         0.1|Iris-setosa|\n",
            "| 15|          5.8|         4.0|          1.2|         0.2|Iris-setosa|\n",
            "| 16|          5.7|         4.4|          1.5|         0.4|Iris-setosa|\n",
            "| 17|          5.4|         3.9|          1.3|         0.4|Iris-setosa|\n",
            "| 18|          5.1|         3.5|          1.4|         0.3|Iris-setosa|\n",
            "| 19|          5.7|         3.8|          1.7|         0.3|Iris-setosa|\n",
            "| 20|          5.1|         3.8|          1.5|         0.3|Iris-setosa|\n",
            "+---+-------------+------------+-------------+------------+-----------+\n",
            "only showing top 20 rows\n",
            "\n"
          ]
        }
      ]
    },
    {
      "cell_type": "code",
      "source": [
        "df_spark.printSchema()"
      ],
      "metadata": {
        "id": "XxtBmqqiVQNY",
        "colab": {
          "base_uri": "https://localhost:8080/"
        },
        "outputId": "fc5aebbd-08da-4f43-bae1-bdfd5fea2796"
      },
      "execution_count": 9,
      "outputs": [
        {
          "output_type": "stream",
          "name": "stdout",
          "text": [
            "root\n",
            " |-- Id: string (nullable = true)\n",
            " |-- SepalLengthCm: string (nullable = true)\n",
            " |-- SepalWidthCm: string (nullable = true)\n",
            " |-- PetalLengthCm: string (nullable = true)\n",
            " |-- PetalWidthCm: string (nullable = true)\n",
            " |-- Species: string (nullable = true)\n",
            "\n"
          ]
        }
      ]
    },
    {
      "cell_type": "markdown",
      "source": [
        "### PySpark Dataframes"
      ],
      "metadata": {
        "id": "WjZNMbNfrVtG"
      }
    },
    {
      "cell_type": "code",
      "source": [
        "df_spark = spark.read.option('header','true').csv('Iris.csv', inferSchema=True)"
      ],
      "metadata": {
        "id": "Lm11BH9kq4sJ"
      },
      "execution_count": 10,
      "outputs": []
    },
    {
      "cell_type": "code",
      "source": [
        "df_spark.printSchema()"
      ],
      "metadata": {
        "colab": {
          "base_uri": "https://localhost:8080/"
        },
        "id": "Fb6KUantsOgv",
        "outputId": "25a59926-c1e0-4887-db71-12811b668d28"
      },
      "execution_count": 11,
      "outputs": [
        {
          "output_type": "stream",
          "name": "stdout",
          "text": [
            "root\n",
            " |-- Id: integer (nullable = true)\n",
            " |-- SepalLengthCm: double (nullable = true)\n",
            " |-- SepalWidthCm: double (nullable = true)\n",
            " |-- PetalLengthCm: double (nullable = true)\n",
            " |-- PetalWidthCm: double (nullable = true)\n",
            " |-- Species: string (nullable = true)\n",
            "\n"
          ]
        }
      ]
    },
    {
      "cell_type": "code",
      "source": [
        "df_spark.columns"
      ],
      "metadata": {
        "colab": {
          "base_uri": "https://localhost:8080/"
        },
        "id": "nzECPH2isPpr",
        "outputId": "10c38ff5-27c6-4eba-f602-cee21e363200"
      },
      "execution_count": 12,
      "outputs": [
        {
          "output_type": "execute_result",
          "data": {
            "text/plain": [
              "['Id',\n",
              " 'SepalLengthCm',\n",
              " 'SepalWidthCm',\n",
              " 'PetalLengthCm',\n",
              " 'PetalWidthCm',\n",
              " 'Species']"
            ]
          },
          "metadata": {},
          "execution_count": 12
        }
      ]
    },
    {
      "cell_type": "code",
      "source": [
        "df_spark.head(3)"
      ],
      "metadata": {
        "colab": {
          "base_uri": "https://localhost:8080/"
        },
        "id": "PvUDxkRwslXO",
        "outputId": "2167f56b-154a-4b8b-a515-2e09579df12f"
      },
      "execution_count": 13,
      "outputs": [
        {
          "output_type": "execute_result",
          "data": {
            "text/plain": [
              "[Row(Id=1, SepalLengthCm=5.1, SepalWidthCm=3.5, PetalLengthCm=1.4, PetalWidthCm=0.2, Species='Iris-setosa'),\n",
              " Row(Id=2, SepalLengthCm=4.9, SepalWidthCm=3.0, PetalLengthCm=1.4, PetalWidthCm=0.2, Species='Iris-setosa'),\n",
              " Row(Id=3, SepalLengthCm=4.7, SepalWidthCm=3.2, PetalLengthCm=1.3, PetalWidthCm=0.2, Species='Iris-setosa')]"
            ]
          },
          "metadata": {},
          "execution_count": 13
        }
      ]
    },
    {
      "cell_type": "code",
      "source": [
        "df_spark.select('Species').show()"
      ],
      "metadata": {
        "colab": {
          "base_uri": "https://localhost:8080/"
        },
        "id": "ib2q1m3Ispdd",
        "outputId": "c5dd029a-ba79-4809-d2d2-f6096cfe5a74"
      },
      "execution_count": 16,
      "outputs": [
        {
          "output_type": "stream",
          "name": "stdout",
          "text": [
            "+-----------+\n",
            "|    Species|\n",
            "+-----------+\n",
            "|Iris-setosa|\n",
            "|Iris-setosa|\n",
            "|Iris-setosa|\n",
            "|Iris-setosa|\n",
            "|Iris-setosa|\n",
            "|Iris-setosa|\n",
            "|Iris-setosa|\n",
            "|Iris-setosa|\n",
            "|Iris-setosa|\n",
            "|Iris-setosa|\n",
            "|Iris-setosa|\n",
            "|Iris-setosa|\n",
            "|Iris-setosa|\n",
            "|Iris-setosa|\n",
            "|Iris-setosa|\n",
            "|Iris-setosa|\n",
            "|Iris-setosa|\n",
            "|Iris-setosa|\n",
            "|Iris-setosa|\n",
            "|Iris-setosa|\n",
            "+-----------+\n",
            "only showing top 20 rows\n",
            "\n"
          ]
        }
      ]
    },
    {
      "cell_type": "code",
      "source": [
        "df_spark.select('ID', 'Species').show()"
      ],
      "metadata": {
        "colab": {
          "base_uri": "https://localhost:8080/"
        },
        "id": "YRVutuTasset",
        "outputId": "f9e1bbff-a695-4d69-efd4-2ed33329711d"
      },
      "execution_count": 17,
      "outputs": [
        {
          "output_type": "stream",
          "name": "stdout",
          "text": [
            "+---+-----------+\n",
            "| ID|    Species|\n",
            "+---+-----------+\n",
            "|  1|Iris-setosa|\n",
            "|  2|Iris-setosa|\n",
            "|  3|Iris-setosa|\n",
            "|  4|Iris-setosa|\n",
            "|  5|Iris-setosa|\n",
            "|  6|Iris-setosa|\n",
            "|  7|Iris-setosa|\n",
            "|  8|Iris-setosa|\n",
            "|  9|Iris-setosa|\n",
            "| 10|Iris-setosa|\n",
            "| 11|Iris-setosa|\n",
            "| 12|Iris-setosa|\n",
            "| 13|Iris-setosa|\n",
            "| 14|Iris-setosa|\n",
            "| 15|Iris-setosa|\n",
            "| 16|Iris-setosa|\n",
            "| 17|Iris-setosa|\n",
            "| 18|Iris-setosa|\n",
            "| 19|Iris-setosa|\n",
            "| 20|Iris-setosa|\n",
            "+---+-----------+\n",
            "only showing top 20 rows\n",
            "\n"
          ]
        }
      ]
    },
    {
      "cell_type": "code",
      "source": [
        "df_spark.describe().show()"
      ],
      "metadata": {
        "colab": {
          "base_uri": "https://localhost:8080/"
        },
        "id": "pF8OsAB9s55P",
        "outputId": "9db7eb59-beb0-4fd4-9afc-7a62daf3a564"
      },
      "execution_count": 19,
      "outputs": [
        {
          "output_type": "stream",
          "name": "stdout",
          "text": [
            "+-------+------------------+------------------+-------------------+------------------+------------------+--------------+\n",
            "|summary|                Id|     SepalLengthCm|       SepalWidthCm|     PetalLengthCm|      PetalWidthCm|       Species|\n",
            "+-------+------------------+------------------+-------------------+------------------+------------------+--------------+\n",
            "|  count|               150|               150|                150|               150|               150|           150|\n",
            "|   mean|              75.5| 5.843333333333335| 3.0540000000000007|3.7586666666666693|1.1986666666666672|          NULL|\n",
            "| stddev|43.445367992456916|0.8280661279778637|0.43359431136217375| 1.764420419952262|0.7631607417008414|          NULL|\n",
            "|    min|                 1|               4.3|                2.0|               1.0|               0.1|   Iris-setosa|\n",
            "|    max|               150|               7.9|                4.4|               6.9|               2.5|Iris-virginica|\n",
            "+-------+------------------+------------------+-------------------+------------------+------------------+--------------+\n",
            "\n"
          ]
        }
      ]
    },
    {
      "cell_type": "code",
      "source": [
        "df = df_spark.withColumn('new species', df_spark['Species']+'new')"
      ],
      "metadata": {
        "id": "i9z_0iDRtPQz"
      },
      "execution_count": 23,
      "outputs": []
    },
    {
      "cell_type": "code",
      "source": [
        "df = df.drop('new species')"
      ],
      "metadata": {
        "id": "hUTpEwUKtk9l"
      },
      "execution_count": 25,
      "outputs": []
    },
    {
      "cell_type": "code",
      "source": [
        "df.show()"
      ],
      "metadata": {
        "colab": {
          "base_uri": "https://localhost:8080/"
        },
        "id": "aOfOnvwsuJW6",
        "outputId": "1f717999-769a-4d73-908c-f0c214d66c48"
      },
      "execution_count": 27,
      "outputs": [
        {
          "output_type": "stream",
          "name": "stdout",
          "text": [
            "+---+-------------+------------+-------------+------------+-----------+\n",
            "| Id|SepalLengthCm|SepalWidthCm|PetalLengthCm|PetalWidthCm|    Species|\n",
            "+---+-------------+------------+-------------+------------+-----------+\n",
            "|  1|          5.1|         3.5|          1.4|         0.2|Iris-setosa|\n",
            "|  2|          4.9|         3.0|          1.4|         0.2|Iris-setosa|\n",
            "|  3|          4.7|         3.2|          1.3|         0.2|Iris-setosa|\n",
            "|  4|          4.6|         3.1|          1.5|         0.2|Iris-setosa|\n",
            "|  5|          5.0|         3.6|          1.4|         0.2|Iris-setosa|\n",
            "|  6|          5.4|         3.9|          1.7|         0.4|Iris-setosa|\n",
            "|  7|          4.6|         3.4|          1.4|         0.3|Iris-setosa|\n",
            "|  8|          5.0|         3.4|          1.5|         0.2|Iris-setosa|\n",
            "|  9|          4.4|         2.9|          1.4|         0.2|Iris-setosa|\n",
            "| 10|          4.9|         3.1|          1.5|         0.1|Iris-setosa|\n",
            "| 11|          5.4|         3.7|          1.5|         0.2|Iris-setosa|\n",
            "| 12|          4.8|         3.4|          1.6|         0.2|Iris-setosa|\n",
            "| 13|          4.8|         3.0|          1.4|         0.1|Iris-setosa|\n",
            "| 14|          4.3|         3.0|          1.1|         0.1|Iris-setosa|\n",
            "| 15|          5.8|         4.0|          1.2|         0.2|Iris-setosa|\n",
            "| 16|          5.7|         4.4|          1.5|         0.4|Iris-setosa|\n",
            "| 17|          5.4|         3.9|          1.3|         0.4|Iris-setosa|\n",
            "| 18|          5.1|         3.5|          1.4|         0.3|Iris-setosa|\n",
            "| 19|          5.7|         3.8|          1.7|         0.3|Iris-setosa|\n",
            "| 20|          5.1|         3.8|          1.5|         0.3|Iris-setosa|\n",
            "+---+-------------+------------+-------------+------------+-----------+\n",
            "only showing top 20 rows\n",
            "\n"
          ]
        }
      ]
    },
    {
      "cell_type": "code",
      "source": [
        "df.withColumnRenamed('ID','new ID').show()"
      ],
      "metadata": {
        "colab": {
          "base_uri": "https://localhost:8080/"
        },
        "id": "iBeiS3Alt7BF",
        "outputId": "5328bc82-c975-4884-d597-3d3c83095720"
      },
      "execution_count": 26,
      "outputs": [
        {
          "output_type": "stream",
          "name": "stdout",
          "text": [
            "+------+-------------+------------+-------------+------------+-----------+\n",
            "|new ID|SepalLengthCm|SepalWidthCm|PetalLengthCm|PetalWidthCm|    Species|\n",
            "+------+-------------+------------+-------------+------------+-----------+\n",
            "|     1|          5.1|         3.5|          1.4|         0.2|Iris-setosa|\n",
            "|     2|          4.9|         3.0|          1.4|         0.2|Iris-setosa|\n",
            "|     3|          4.7|         3.2|          1.3|         0.2|Iris-setosa|\n",
            "|     4|          4.6|         3.1|          1.5|         0.2|Iris-setosa|\n",
            "|     5|          5.0|         3.6|          1.4|         0.2|Iris-setosa|\n",
            "|     6|          5.4|         3.9|          1.7|         0.4|Iris-setosa|\n",
            "|     7|          4.6|         3.4|          1.4|         0.3|Iris-setosa|\n",
            "|     8|          5.0|         3.4|          1.5|         0.2|Iris-setosa|\n",
            "|     9|          4.4|         2.9|          1.4|         0.2|Iris-setosa|\n",
            "|    10|          4.9|         3.1|          1.5|         0.1|Iris-setosa|\n",
            "|    11|          5.4|         3.7|          1.5|         0.2|Iris-setosa|\n",
            "|    12|          4.8|         3.4|          1.6|         0.2|Iris-setosa|\n",
            "|    13|          4.8|         3.0|          1.4|         0.1|Iris-setosa|\n",
            "|    14|          4.3|         3.0|          1.1|         0.1|Iris-setosa|\n",
            "|    15|          5.8|         4.0|          1.2|         0.2|Iris-setosa|\n",
            "|    16|          5.7|         4.4|          1.5|         0.4|Iris-setosa|\n",
            "|    17|          5.4|         3.9|          1.3|         0.4|Iris-setosa|\n",
            "|    18|          5.1|         3.5|          1.4|         0.3|Iris-setosa|\n",
            "|    19|          5.7|         3.8|          1.7|         0.3|Iris-setosa|\n",
            "|    20|          5.1|         3.8|          1.5|         0.3|Iris-setosa|\n",
            "+------+-------------+------------+-------------+------------+-----------+\n",
            "only showing top 20 rows\n",
            "\n"
          ]
        }
      ]
    },
    {
      "cell_type": "markdown",
      "source": [
        "### Handling Missing Values"
      ],
      "metadata": {
        "id": "6mWlOOQjuLcQ"
      }
    },
    {
      "cell_type": "code",
      "source": [
        "df.drop('ID').show()"
      ],
      "metadata": {
        "colab": {
          "base_uri": "https://localhost:8080/"
        },
        "id": "VZeRDIcRuGQG",
        "outputId": "7b9eb128-c85a-43f6-fd89-193021aaa0d0"
      },
      "execution_count": 30,
      "outputs": [
        {
          "output_type": "stream",
          "name": "stdout",
          "text": [
            "+-------------+------------+-------------+------------+-----------+\n",
            "|SepalLengthCm|SepalWidthCm|PetalLengthCm|PetalWidthCm|    Species|\n",
            "+-------------+------------+-------------+------------+-----------+\n",
            "|          5.1|         3.5|          1.4|         0.2|Iris-setosa|\n",
            "|          4.9|         3.0|          1.4|         0.2|Iris-setosa|\n",
            "|          4.7|         3.2|          1.3|         0.2|Iris-setosa|\n",
            "|          4.6|         3.1|          1.5|         0.2|Iris-setosa|\n",
            "|          5.0|         3.6|          1.4|         0.2|Iris-setosa|\n",
            "|          5.4|         3.9|          1.7|         0.4|Iris-setosa|\n",
            "|          4.6|         3.4|          1.4|         0.3|Iris-setosa|\n",
            "|          5.0|         3.4|          1.5|         0.2|Iris-setosa|\n",
            "|          4.4|         2.9|          1.4|         0.2|Iris-setosa|\n",
            "|          4.9|         3.1|          1.5|         0.1|Iris-setosa|\n",
            "|          5.4|         3.7|          1.5|         0.2|Iris-setosa|\n",
            "|          4.8|         3.4|          1.6|         0.2|Iris-setosa|\n",
            "|          4.8|         3.0|          1.4|         0.1|Iris-setosa|\n",
            "|          4.3|         3.0|          1.1|         0.1|Iris-setosa|\n",
            "|          5.8|         4.0|          1.2|         0.2|Iris-setosa|\n",
            "|          5.7|         4.4|          1.5|         0.4|Iris-setosa|\n",
            "|          5.4|         3.9|          1.3|         0.4|Iris-setosa|\n",
            "|          5.1|         3.5|          1.4|         0.3|Iris-setosa|\n",
            "|          5.7|         3.8|          1.7|         0.3|Iris-setosa|\n",
            "|          5.1|         3.8|          1.5|         0.3|Iris-setosa|\n",
            "+-------------+------------+-------------+------------+-----------+\n",
            "only showing top 20 rows\n",
            "\n"
          ]
        }
      ]
    },
    {
      "cell_type": "code",
      "source": [
        "df.na.drop().show()"
      ],
      "metadata": {
        "colab": {
          "base_uri": "https://localhost:8080/"
        },
        "id": "tyi2nhO7vGNy",
        "outputId": "81512e5c-b999-4df3-b3ab-cf5ab66dbe1d"
      },
      "execution_count": 37,
      "outputs": [
        {
          "output_type": "stream",
          "name": "stdout",
          "text": [
            "+---+-------------+------------+-------------+------------+-----------+\n",
            "| Id|SepalLengthCm|SepalWidthCm|PetalLengthCm|PetalWidthCm|    Species|\n",
            "+---+-------------+------------+-------------+------------+-----------+\n",
            "|  1|          5.1|         3.5|          1.4|         0.2|Iris-setosa|\n",
            "|  2|          4.9|         3.0|          1.4|         0.2|Iris-setosa|\n",
            "|  3|          4.7|         3.2|          1.3|         0.2|Iris-setosa|\n",
            "|  4|          4.6|         3.1|          1.5|         0.2|Iris-setosa|\n",
            "|  5|          5.0|         3.6|          1.4|         0.2|Iris-setosa|\n",
            "|  6|          5.4|         3.9|          1.7|         0.4|Iris-setosa|\n",
            "|  7|          4.6|         3.4|          1.4|         0.3|Iris-setosa|\n",
            "|  8|          5.0|         3.4|          1.5|         0.2|Iris-setosa|\n",
            "|  9|          4.4|         2.9|          1.4|         0.2|Iris-setosa|\n",
            "| 10|          4.9|         3.1|          1.5|         0.1|Iris-setosa|\n",
            "| 11|          5.4|         3.7|          1.5|         0.2|Iris-setosa|\n",
            "| 12|          4.8|         3.4|          1.6|         0.2|Iris-setosa|\n",
            "| 13|          4.8|         3.0|          1.4|         0.1|Iris-setosa|\n",
            "| 14|          4.3|         3.0|          1.1|         0.1|Iris-setosa|\n",
            "| 15|          5.8|         4.0|          1.2|         0.2|Iris-setosa|\n",
            "| 16|          5.7|         4.4|          1.5|         0.4|Iris-setosa|\n",
            "| 17|          5.4|         3.9|          1.3|         0.4|Iris-setosa|\n",
            "| 18|          5.1|         3.5|          1.4|         0.3|Iris-setosa|\n",
            "| 19|          5.7|         3.8|          1.7|         0.3|Iris-setosa|\n",
            "| 20|          5.1|         3.8|          1.5|         0.3|Iris-setosa|\n",
            "+---+-------------+------------+-------------+------------+-----------+\n",
            "only showing top 20 rows\n",
            "\n"
          ]
        }
      ]
    },
    {
      "cell_type": "code",
      "source": [
        "df.na.drop(how='all').show()"
      ],
      "metadata": {
        "colab": {
          "base_uri": "https://localhost:8080/"
        },
        "id": "50i9DKSMvZw2",
        "outputId": "176e1f62-a8c6-452b-883a-99660ce9f25d"
      },
      "execution_count": 33,
      "outputs": [
        {
          "output_type": "stream",
          "name": "stdout",
          "text": [
            "+---+-------------+------------+-------------+------------+-----------+\n",
            "| Id|SepalLengthCm|SepalWidthCm|PetalLengthCm|PetalWidthCm|    Species|\n",
            "+---+-------------+------------+-------------+------------+-----------+\n",
            "|  1|          5.1|         3.5|          1.4|         0.2|Iris-setosa|\n",
            "|  2|          4.9|         3.0|          1.4|         0.2|Iris-setosa|\n",
            "|  3|          4.7|         3.2|          1.3|         0.2|Iris-setosa|\n",
            "|  4|          4.6|         3.1|          1.5|         0.2|Iris-setosa|\n",
            "|  5|          5.0|         3.6|          1.4|         0.2|Iris-setosa|\n",
            "|  6|          5.4|         3.9|          1.7|         0.4|Iris-setosa|\n",
            "|  7|          4.6|         3.4|          1.4|         0.3|Iris-setosa|\n",
            "|  8|          5.0|         3.4|          1.5|         0.2|Iris-setosa|\n",
            "|  9|          4.4|         2.9|          1.4|         0.2|Iris-setosa|\n",
            "| 10|          4.9|         3.1|          1.5|         0.1|Iris-setosa|\n",
            "| 11|          5.4|         3.7|          1.5|         0.2|Iris-setosa|\n",
            "| 12|          4.8|         3.4|          1.6|         0.2|Iris-setosa|\n",
            "| 13|          4.8|         3.0|          1.4|         0.1|Iris-setosa|\n",
            "| 14|          4.3|         3.0|          1.1|         0.1|Iris-setosa|\n",
            "| 15|          5.8|         4.0|          1.2|         0.2|Iris-setosa|\n",
            "| 16|          5.7|         4.4|          1.5|         0.4|Iris-setosa|\n",
            "| 17|          5.4|         3.9|          1.3|         0.4|Iris-setosa|\n",
            "| 18|          5.1|         3.5|          1.4|         0.3|Iris-setosa|\n",
            "| 19|          5.7|         3.8|          1.7|         0.3|Iris-setosa|\n",
            "| 20|          5.1|         3.8|          1.5|         0.3|Iris-setosa|\n",
            "+---+-------------+------------+-------------+------------+-----------+\n",
            "only showing top 20 rows\n",
            "\n"
          ]
        }
      ]
    },
    {
      "cell_type": "code",
      "source": [
        "df.na.drop(how='any',thresh=2).show()"
      ],
      "metadata": {
        "colab": {
          "base_uri": "https://localhost:8080/"
        },
        "id": "gUUGDG0JvcO0",
        "outputId": "53dfc9af-1a30-4796-9472-4f67b0a3721a"
      },
      "execution_count": 38,
      "outputs": [
        {
          "output_type": "stream",
          "name": "stdout",
          "text": [
            "+---+-------------+------------+-------------+------------+-----------+\n",
            "| Id|SepalLengthCm|SepalWidthCm|PetalLengthCm|PetalWidthCm|    Species|\n",
            "+---+-------------+------------+-------------+------------+-----------+\n",
            "|  1|          5.1|         3.5|          1.4|         0.2|Iris-setosa|\n",
            "|  2|          4.9|         3.0|          1.4|         0.2|Iris-setosa|\n",
            "|  3|          4.7|         3.2|          1.3|         0.2|Iris-setosa|\n",
            "|  4|          4.6|         3.1|          1.5|         0.2|Iris-setosa|\n",
            "|  5|          5.0|         3.6|          1.4|         0.2|Iris-setosa|\n",
            "|  6|          5.4|         3.9|          1.7|         0.4|Iris-setosa|\n",
            "|  7|          4.6|         3.4|          1.4|         0.3|Iris-setosa|\n",
            "|  8|          5.0|         3.4|          1.5|         0.2|Iris-setosa|\n",
            "|  9|          4.4|         2.9|          1.4|         0.2|Iris-setosa|\n",
            "| 10|          4.9|         3.1|          1.5|         0.1|Iris-setosa|\n",
            "| 11|          5.4|         3.7|          1.5|         0.2|Iris-setosa|\n",
            "| 12|          4.8|         3.4|          1.6|         0.2|Iris-setosa|\n",
            "| 13|          4.8|         3.0|          1.4|         0.1|Iris-setosa|\n",
            "| 14|          4.3|         3.0|          1.1|         0.1|Iris-setosa|\n",
            "| 15|          5.8|         4.0|          1.2|         0.2|Iris-setosa|\n",
            "| 16|          5.7|         4.4|          1.5|         0.4|Iris-setosa|\n",
            "| 17|          5.4|         3.9|          1.3|         0.4|Iris-setosa|\n",
            "| 18|          5.1|         3.5|          1.4|         0.3|Iris-setosa|\n",
            "| 19|          5.7|         3.8|          1.7|         0.3|Iris-setosa|\n",
            "| 20|          5.1|         3.8|          1.5|         0.3|Iris-setosa|\n",
            "+---+-------------+------------+-------------+------------+-----------+\n",
            "only showing top 20 rows\n",
            "\n"
          ]
        }
      ]
    },
    {
      "cell_type": "code",
      "source": [
        "df.na.drop(how='any',subset=['PetalLengthCm']).show()"
      ],
      "metadata": {
        "colab": {
          "base_uri": "https://localhost:8080/"
        },
        "id": "rtTM1NNzwS9U",
        "outputId": "f1bb5975-399c-4752-d7c6-3a6f1bd247b3"
      },
      "execution_count": 40,
      "outputs": [
        {
          "output_type": "stream",
          "name": "stdout",
          "text": [
            "+---+-------------+------------+-------------+------------+-----------+\n",
            "| Id|SepalLengthCm|SepalWidthCm|PetalLengthCm|PetalWidthCm|    Species|\n",
            "+---+-------------+------------+-------------+------------+-----------+\n",
            "|  1|          5.1|         3.5|          1.4|         0.2|Iris-setosa|\n",
            "|  2|          4.9|         3.0|          1.4|         0.2|Iris-setosa|\n",
            "|  3|          4.7|         3.2|          1.3|         0.2|Iris-setosa|\n",
            "|  4|          4.6|         3.1|          1.5|         0.2|Iris-setosa|\n",
            "|  5|          5.0|         3.6|          1.4|         0.2|Iris-setosa|\n",
            "|  6|          5.4|         3.9|          1.7|         0.4|Iris-setosa|\n",
            "|  7|          4.6|         3.4|          1.4|         0.3|Iris-setosa|\n",
            "|  8|          5.0|         3.4|          1.5|         0.2|Iris-setosa|\n",
            "|  9|          4.4|         2.9|          1.4|         0.2|Iris-setosa|\n",
            "| 10|          4.9|         3.1|          1.5|         0.1|Iris-setosa|\n",
            "| 11|          5.4|         3.7|          1.5|         0.2|Iris-setosa|\n",
            "| 12|          4.8|         3.4|          1.6|         0.2|Iris-setosa|\n",
            "| 13|          4.8|         3.0|          1.4|         0.1|Iris-setosa|\n",
            "| 14|          4.3|         3.0|          1.1|         0.1|Iris-setosa|\n",
            "| 15|          5.8|         4.0|          1.2|         0.2|Iris-setosa|\n",
            "| 16|          5.7|         4.4|          1.5|         0.4|Iris-setosa|\n",
            "| 17|          5.4|         3.9|          1.3|         0.4|Iris-setosa|\n",
            "| 18|          5.1|         3.5|          1.4|         0.3|Iris-setosa|\n",
            "| 19|          5.7|         3.8|          1.7|         0.3|Iris-setosa|\n",
            "| 20|          5.1|         3.8|          1.5|         0.3|Iris-setosa|\n",
            "+---+-------------+------------+-------------+------------+-----------+\n",
            "only showing top 20 rows\n",
            "\n"
          ]
        }
      ]
    },
    {
      "cell_type": "code",
      "source": [
        "df.na.fill('Missing Value').show()"
      ],
      "metadata": {
        "colab": {
          "base_uri": "https://localhost:8080/"
        },
        "id": "pN_uoAq4wrE4",
        "outputId": "79acd0d7-4ced-4638-c002-52d449781982"
      },
      "execution_count": 41,
      "outputs": [
        {
          "output_type": "stream",
          "name": "stdout",
          "text": [
            "+---+-------------+------------+-------------+------------+-----------+\n",
            "| Id|SepalLengthCm|SepalWidthCm|PetalLengthCm|PetalWidthCm|    Species|\n",
            "+---+-------------+------------+-------------+------------+-----------+\n",
            "|  1|          5.1|         3.5|          1.4|         0.2|Iris-setosa|\n",
            "|  2|          4.9|         3.0|          1.4|         0.2|Iris-setosa|\n",
            "|  3|          4.7|         3.2|          1.3|         0.2|Iris-setosa|\n",
            "|  4|          4.6|         3.1|          1.5|         0.2|Iris-setosa|\n",
            "|  5|          5.0|         3.6|          1.4|         0.2|Iris-setosa|\n",
            "|  6|          5.4|         3.9|          1.7|         0.4|Iris-setosa|\n",
            "|  7|          4.6|         3.4|          1.4|         0.3|Iris-setosa|\n",
            "|  8|          5.0|         3.4|          1.5|         0.2|Iris-setosa|\n",
            "|  9|          4.4|         2.9|          1.4|         0.2|Iris-setosa|\n",
            "| 10|          4.9|         3.1|          1.5|         0.1|Iris-setosa|\n",
            "| 11|          5.4|         3.7|          1.5|         0.2|Iris-setosa|\n",
            "| 12|          4.8|         3.4|          1.6|         0.2|Iris-setosa|\n",
            "| 13|          4.8|         3.0|          1.4|         0.1|Iris-setosa|\n",
            "| 14|          4.3|         3.0|          1.1|         0.1|Iris-setosa|\n",
            "| 15|          5.8|         4.0|          1.2|         0.2|Iris-setosa|\n",
            "| 16|          5.7|         4.4|          1.5|         0.4|Iris-setosa|\n",
            "| 17|          5.4|         3.9|          1.3|         0.4|Iris-setosa|\n",
            "| 18|          5.1|         3.5|          1.4|         0.3|Iris-setosa|\n",
            "| 19|          5.7|         3.8|          1.7|         0.3|Iris-setosa|\n",
            "| 20|          5.1|         3.8|          1.5|         0.3|Iris-setosa|\n",
            "+---+-------------+------------+-------------+------------+-----------+\n",
            "only showing top 20 rows\n",
            "\n"
          ]
        }
      ]
    },
    {
      "cell_type": "code",
      "source": [
        "df.na.fill('Missing Value','Species').show()"
      ],
      "metadata": {
        "colab": {
          "base_uri": "https://localhost:8080/"
        },
        "id": "WChWiSO1xJ5F",
        "outputId": "4a1603fd-1be5-447e-ad83-390081956f26"
      },
      "execution_count": 42,
      "outputs": [
        {
          "output_type": "stream",
          "name": "stdout",
          "text": [
            "+---+-------------+------------+-------------+------------+-----------+\n",
            "| Id|SepalLengthCm|SepalWidthCm|PetalLengthCm|PetalWidthCm|    Species|\n",
            "+---+-------------+------------+-------------+------------+-----------+\n",
            "|  1|          5.1|         3.5|          1.4|         0.2|Iris-setosa|\n",
            "|  2|          4.9|         3.0|          1.4|         0.2|Iris-setosa|\n",
            "|  3|          4.7|         3.2|          1.3|         0.2|Iris-setosa|\n",
            "|  4|          4.6|         3.1|          1.5|         0.2|Iris-setosa|\n",
            "|  5|          5.0|         3.6|          1.4|         0.2|Iris-setosa|\n",
            "|  6|          5.4|         3.9|          1.7|         0.4|Iris-setosa|\n",
            "|  7|          4.6|         3.4|          1.4|         0.3|Iris-setosa|\n",
            "|  8|          5.0|         3.4|          1.5|         0.2|Iris-setosa|\n",
            "|  9|          4.4|         2.9|          1.4|         0.2|Iris-setosa|\n",
            "| 10|          4.9|         3.1|          1.5|         0.1|Iris-setosa|\n",
            "| 11|          5.4|         3.7|          1.5|         0.2|Iris-setosa|\n",
            "| 12|          4.8|         3.4|          1.6|         0.2|Iris-setosa|\n",
            "| 13|          4.8|         3.0|          1.4|         0.1|Iris-setosa|\n",
            "| 14|          4.3|         3.0|          1.1|         0.1|Iris-setosa|\n",
            "| 15|          5.8|         4.0|          1.2|         0.2|Iris-setosa|\n",
            "| 16|          5.7|         4.4|          1.5|         0.4|Iris-setosa|\n",
            "| 17|          5.4|         3.9|          1.3|         0.4|Iris-setosa|\n",
            "| 18|          5.1|         3.5|          1.4|         0.3|Iris-setosa|\n",
            "| 19|          5.7|         3.8|          1.7|         0.3|Iris-setosa|\n",
            "| 20|          5.1|         3.8|          1.5|         0.3|Iris-setosa|\n",
            "+---+-------------+------------+-------------+------------+-----------+\n",
            "only showing top 20 rows\n",
            "\n"
          ]
        }
      ]
    },
    {
      "cell_type": "code",
      "source": [
        "from pyspark.ml.feature import Imputer\n",
        "\n",
        "imputer = Imputer(\n",
        "    inputCols=['Id','SepalLengthCm','SepalWidthCm','PetalLengthCm','PetalWidthCm'],\n",
        "    outputCols=['{}_imputed'.format(c) for c in ['Id','SepalLengthCm','SepalWidthCm','PetalLengthCm','PetalWidthCm'\n",
        "    ]]\n",
        ").setStrategy('mean')"
      ],
      "metadata": {
        "id": "MU7e_Ju7xOWj"
      },
      "execution_count": 46,
      "outputs": []
    },
    {
      "cell_type": "code",
      "source": [
        "imputer.fit(df).transform(df).show()"
      ],
      "metadata": {
        "colab": {
          "base_uri": "https://localhost:8080/"
        },
        "id": "OtjaCp4vyBCz",
        "outputId": "3ee0f392-5c37-4f69-f7a9-1b99305ac5b3"
      },
      "execution_count": 47,
      "outputs": [
        {
          "output_type": "stream",
          "name": "stdout",
          "text": [
            "+---+-------------+------------+-------------+------------+-----------+----------+---------------------+--------------------+---------------------+--------------------+\n",
            "| Id|SepalLengthCm|SepalWidthCm|PetalLengthCm|PetalWidthCm|    Species|Id_imputed|SepalLengthCm_imputed|SepalWidthCm_imputed|PetalLengthCm_imputed|PetalWidthCm_imputed|\n",
            "+---+-------------+------------+-------------+------------+-----------+----------+---------------------+--------------------+---------------------+--------------------+\n",
            "|  1|          5.1|         3.5|          1.4|         0.2|Iris-setosa|         1|                  5.1|                 3.5|                  1.4|                 0.2|\n",
            "|  2|          4.9|         3.0|          1.4|         0.2|Iris-setosa|         2|                  4.9|                 3.0|                  1.4|                 0.2|\n",
            "|  3|          4.7|         3.2|          1.3|         0.2|Iris-setosa|         3|                  4.7|                 3.2|                  1.3|                 0.2|\n",
            "|  4|          4.6|         3.1|          1.5|         0.2|Iris-setosa|         4|                  4.6|                 3.1|                  1.5|                 0.2|\n",
            "|  5|          5.0|         3.6|          1.4|         0.2|Iris-setosa|         5|                  5.0|                 3.6|                  1.4|                 0.2|\n",
            "|  6|          5.4|         3.9|          1.7|         0.4|Iris-setosa|         6|                  5.4|                 3.9|                  1.7|                 0.4|\n",
            "|  7|          4.6|         3.4|          1.4|         0.3|Iris-setosa|         7|                  4.6|                 3.4|                  1.4|                 0.3|\n",
            "|  8|          5.0|         3.4|          1.5|         0.2|Iris-setosa|         8|                  5.0|                 3.4|                  1.5|                 0.2|\n",
            "|  9|          4.4|         2.9|          1.4|         0.2|Iris-setosa|         9|                  4.4|                 2.9|                  1.4|                 0.2|\n",
            "| 10|          4.9|         3.1|          1.5|         0.1|Iris-setosa|        10|                  4.9|                 3.1|                  1.5|                 0.1|\n",
            "| 11|          5.4|         3.7|          1.5|         0.2|Iris-setosa|        11|                  5.4|                 3.7|                  1.5|                 0.2|\n",
            "| 12|          4.8|         3.4|          1.6|         0.2|Iris-setosa|        12|                  4.8|                 3.4|                  1.6|                 0.2|\n",
            "| 13|          4.8|         3.0|          1.4|         0.1|Iris-setosa|        13|                  4.8|                 3.0|                  1.4|                 0.1|\n",
            "| 14|          4.3|         3.0|          1.1|         0.1|Iris-setosa|        14|                  4.3|                 3.0|                  1.1|                 0.1|\n",
            "| 15|          5.8|         4.0|          1.2|         0.2|Iris-setosa|        15|                  5.8|                 4.0|                  1.2|                 0.2|\n",
            "| 16|          5.7|         4.4|          1.5|         0.4|Iris-setosa|        16|                  5.7|                 4.4|                  1.5|                 0.4|\n",
            "| 17|          5.4|         3.9|          1.3|         0.4|Iris-setosa|        17|                  5.4|                 3.9|                  1.3|                 0.4|\n",
            "| 18|          5.1|         3.5|          1.4|         0.3|Iris-setosa|        18|                  5.1|                 3.5|                  1.4|                 0.3|\n",
            "| 19|          5.7|         3.8|          1.7|         0.3|Iris-setosa|        19|                  5.7|                 3.8|                  1.7|                 0.3|\n",
            "| 20|          5.1|         3.8|          1.5|         0.3|Iris-setosa|        20|                  5.1|                 3.8|                  1.5|                 0.3|\n",
            "+---+-------------+------------+-------------+------------+-----------+----------+---------------------+--------------------+---------------------+--------------------+\n",
            "only showing top 20 rows\n",
            "\n"
          ]
        }
      ]
    },
    {
      "cell_type": "markdown",
      "source": [
        "### Filter Ops"
      ],
      "metadata": {
        "id": "PgZ4h4PsykDY"
      }
    },
    {
      "cell_type": "code",
      "source": [
        "df.filter('Id>100').show()"
      ],
      "metadata": {
        "colab": {
          "base_uri": "https://localhost:8080/"
        },
        "id": "W-VrvnuyyLJg",
        "outputId": "072c50be-84e8-4b9d-8169-7543af5df13d"
      },
      "execution_count": 48,
      "outputs": [
        {
          "output_type": "stream",
          "name": "stdout",
          "text": [
            "+---+-------------+------------+-------------+------------+--------------+\n",
            "| Id|SepalLengthCm|SepalWidthCm|PetalLengthCm|PetalWidthCm|       Species|\n",
            "+---+-------------+------------+-------------+------------+--------------+\n",
            "|101|          6.3|         3.3|          6.0|         2.5|Iris-virginica|\n",
            "|102|          5.8|         2.7|          5.1|         1.9|Iris-virginica|\n",
            "|103|          7.1|         3.0|          5.9|         2.1|Iris-virginica|\n",
            "|104|          6.3|         2.9|          5.6|         1.8|Iris-virginica|\n",
            "|105|          6.5|         3.0|          5.8|         2.2|Iris-virginica|\n",
            "|106|          7.6|         3.0|          6.6|         2.1|Iris-virginica|\n",
            "|107|          4.9|         2.5|          4.5|         1.7|Iris-virginica|\n",
            "|108|          7.3|         2.9|          6.3|         1.8|Iris-virginica|\n",
            "|109|          6.7|         2.5|          5.8|         1.8|Iris-virginica|\n",
            "|110|          7.2|         3.6|          6.1|         2.5|Iris-virginica|\n",
            "|111|          6.5|         3.2|          5.1|         2.0|Iris-virginica|\n",
            "|112|          6.4|         2.7|          5.3|         1.9|Iris-virginica|\n",
            "|113|          6.8|         3.0|          5.5|         2.1|Iris-virginica|\n",
            "|114|          5.7|         2.5|          5.0|         2.0|Iris-virginica|\n",
            "|115|          5.8|         2.8|          5.1|         2.4|Iris-virginica|\n",
            "|116|          6.4|         3.2|          5.3|         2.3|Iris-virginica|\n",
            "|117|          6.5|         3.0|          5.5|         1.8|Iris-virginica|\n",
            "|118|          7.7|         3.8|          6.7|         2.2|Iris-virginica|\n",
            "|119|          7.7|         2.6|          6.9|         2.3|Iris-virginica|\n",
            "|120|          6.0|         2.2|          5.0|         1.5|Iris-virginica|\n",
            "+---+-------------+------------+-------------+------------+--------------+\n",
            "only showing top 20 rows\n",
            "\n"
          ]
        }
      ]
    },
    {
      "cell_type": "code",
      "source": [
        "df.filter('Id>100').select('SepalLengthCm').show()"
      ],
      "metadata": {
        "colab": {
          "base_uri": "https://localhost:8080/"
        },
        "id": "zL93GIw96eAN",
        "outputId": "dd164b7e-8ddf-4a84-be2e-2ff8f72daccd"
      },
      "execution_count": 49,
      "outputs": [
        {
          "output_type": "stream",
          "name": "stdout",
          "text": [
            "+-------------+\n",
            "|SepalLengthCm|\n",
            "+-------------+\n",
            "|          6.3|\n",
            "|          5.8|\n",
            "|          7.1|\n",
            "|          6.3|\n",
            "|          6.5|\n",
            "|          7.6|\n",
            "|          4.9|\n",
            "|          7.3|\n",
            "|          6.7|\n",
            "|          7.2|\n",
            "|          6.5|\n",
            "|          6.4|\n",
            "|          6.8|\n",
            "|          5.7|\n",
            "|          5.8|\n",
            "|          6.4|\n",
            "|          6.5|\n",
            "|          7.7|\n",
            "|          7.7|\n",
            "|          6.0|\n",
            "+-------------+\n",
            "only showing top 20 rows\n",
            "\n"
          ]
        }
      ]
    },
    {
      "cell_type": "code",
      "source": [
        "df.filter((df['Id']>100) & (df['SepalLengthCm']>6.0)).show()"
      ],
      "metadata": {
        "colab": {
          "base_uri": "https://localhost:8080/"
        },
        "id": "vAsF8WBk6pVn",
        "outputId": "dff1baee-a6d3-4295-f12e-4c881e92a81e"
      },
      "execution_count": 59,
      "outputs": [
        {
          "output_type": "stream",
          "name": "stdout",
          "text": [
            "+---+-------------+------------+-------------+------------+--------------+\n",
            "| Id|SepalLengthCm|SepalWidthCm|PetalLengthCm|PetalWidthCm|       Species|\n",
            "+---+-------------+------------+-------------+------------+--------------+\n",
            "|101|          6.3|         3.3|          6.0|         2.5|Iris-virginica|\n",
            "|103|          7.1|         3.0|          5.9|         2.1|Iris-virginica|\n",
            "|104|          6.3|         2.9|          5.6|         1.8|Iris-virginica|\n",
            "|105|          6.5|         3.0|          5.8|         2.2|Iris-virginica|\n",
            "|106|          7.6|         3.0|          6.6|         2.1|Iris-virginica|\n",
            "|108|          7.3|         2.9|          6.3|         1.8|Iris-virginica|\n",
            "|109|          6.7|         2.5|          5.8|         1.8|Iris-virginica|\n",
            "|110|          7.2|         3.6|          6.1|         2.5|Iris-virginica|\n",
            "|111|          6.5|         3.2|          5.1|         2.0|Iris-virginica|\n",
            "|112|          6.4|         2.7|          5.3|         1.9|Iris-virginica|\n",
            "|113|          6.8|         3.0|          5.5|         2.1|Iris-virginica|\n",
            "|116|          6.4|         3.2|          5.3|         2.3|Iris-virginica|\n",
            "|117|          6.5|         3.0|          5.5|         1.8|Iris-virginica|\n",
            "|118|          7.7|         3.8|          6.7|         2.2|Iris-virginica|\n",
            "|119|          7.7|         2.6|          6.9|         2.3|Iris-virginica|\n",
            "|121|          6.9|         3.2|          5.7|         2.3|Iris-virginica|\n",
            "|123|          7.7|         2.8|          6.7|         2.0|Iris-virginica|\n",
            "|124|          6.3|         2.7|          4.9|         1.8|Iris-virginica|\n",
            "|125|          6.7|         3.3|          5.7|         2.1|Iris-virginica|\n",
            "|126|          7.2|         3.2|          6.0|         1.8|Iris-virginica|\n",
            "+---+-------------+------------+-------------+------------+--------------+\n",
            "only showing top 20 rows\n",
            "\n"
          ]
        }
      ]
    },
    {
      "cell_type": "markdown",
      "source": [
        "### Group By and Aggregate"
      ],
      "metadata": {
        "id": "fPJUmWDT73G2"
      }
    },
    {
      "cell_type": "code",
      "source": [
        "df.groupBy('Species').sum().show()"
      ],
      "metadata": {
        "colab": {
          "base_uri": "https://localhost:8080/"
        },
        "id": "uDgAKkmN62os",
        "outputId": "68b4928b-bf1d-4aeb-e1b6-d3646be75d0a"
      },
      "execution_count": 62,
      "outputs": [
        {
          "output_type": "stream",
          "name": "stdout",
          "text": [
            "+---------------+-------+------------------+------------------+------------------+------------------+\n",
            "|        Species|sum(Id)|sum(SepalLengthCm)| sum(SepalWidthCm)|sum(PetalLengthCm)| sum(PetalWidthCm)|\n",
            "+---------------+-------+------------------+------------------+------------------+------------------+\n",
            "| Iris-virginica|   6275| 329.3999999999999|             148.7|277.59999999999997|101.29999999999998|\n",
            "|    Iris-setosa|   1275|250.29999999999998|170.90000000000003|              73.2|12.199999999999996|\n",
            "|Iris-versicolor|   3775|             296.8|138.50000000000003|212.99999999999997|              66.3|\n",
            "+---------------+-------+------------------+------------------+------------------+------------------+\n",
            "\n"
          ]
        }
      ]
    },
    {
      "cell_type": "code",
      "source": [
        "df.groupBy(df['Species']).count().show()"
      ],
      "metadata": {
        "colab": {
          "base_uri": "https://localhost:8080/"
        },
        "id": "qHLPqREE8YCs",
        "outputId": "8c12b429-ac70-4320-90cd-8a73046a1d63"
      },
      "execution_count": 64,
      "outputs": [
        {
          "output_type": "stream",
          "name": "stdout",
          "text": [
            "+---------------+-----+\n",
            "|        Species|count|\n",
            "+---------------+-----+\n",
            "| Iris-virginica|   50|\n",
            "|    Iris-setosa|   50|\n",
            "|Iris-versicolor|   50|\n",
            "+---------------+-----+\n",
            "\n"
          ]
        }
      ]
    },
    {
      "cell_type": "markdown",
      "source": [
        "### Mlib"
      ],
      "metadata": {
        "id": "QYS311Vs9sVc"
      }
    },
    {
      "cell_type": "code",
      "source": [
        "# Define independent features\n",
        "from pyspark.ml.feature import VectorAssembler\n",
        "vassem = VectorAssembler(inputCols=['SepalLengthCm','SepalWidthCm','PetalLengthCm','PetalWidthCm'],outputCol='indp_feats')"
      ],
      "metadata": {
        "id": "822Dd-8Q8-l7"
      },
      "execution_count": 71,
      "outputs": []
    },
    {
      "cell_type": "code",
      "source": [
        "output = vassem.transform(df)"
      ],
      "metadata": {
        "id": "E3uJ5_6V9rGS"
      },
      "execution_count": 72,
      "outputs": []
    },
    {
      "cell_type": "code",
      "source": [
        "output.show()"
      ],
      "metadata": {
        "colab": {
          "base_uri": "https://localhost:8080/"
        },
        "id": "KI2Q1-Hm-_Rs",
        "outputId": "2f02f7b4-2ff4-4af7-e627-39dbc7fd5259"
      },
      "execution_count": 73,
      "outputs": [
        {
          "output_type": "stream",
          "name": "stdout",
          "text": [
            "+---+-------------+------------+-------------+------------+-----------+-----------------+\n",
            "| Id|SepalLengthCm|SepalWidthCm|PetalLengthCm|PetalWidthCm|    Species|       indp_feats|\n",
            "+---+-------------+------------+-------------+------------+-----------+-----------------+\n",
            "|  1|          5.1|         3.5|          1.4|         0.2|Iris-setosa|[5.1,3.5,1.4,0.2]|\n",
            "|  2|          4.9|         3.0|          1.4|         0.2|Iris-setosa|[4.9,3.0,1.4,0.2]|\n",
            "|  3|          4.7|         3.2|          1.3|         0.2|Iris-setosa|[4.7,3.2,1.3,0.2]|\n",
            "|  4|          4.6|         3.1|          1.5|         0.2|Iris-setosa|[4.6,3.1,1.5,0.2]|\n",
            "|  5|          5.0|         3.6|          1.4|         0.2|Iris-setosa|[5.0,3.6,1.4,0.2]|\n",
            "|  6|          5.4|         3.9|          1.7|         0.4|Iris-setosa|[5.4,3.9,1.7,0.4]|\n",
            "|  7|          4.6|         3.4|          1.4|         0.3|Iris-setosa|[4.6,3.4,1.4,0.3]|\n",
            "|  8|          5.0|         3.4|          1.5|         0.2|Iris-setosa|[5.0,3.4,1.5,0.2]|\n",
            "|  9|          4.4|         2.9|          1.4|         0.2|Iris-setosa|[4.4,2.9,1.4,0.2]|\n",
            "| 10|          4.9|         3.1|          1.5|         0.1|Iris-setosa|[4.9,3.1,1.5,0.1]|\n",
            "| 11|          5.4|         3.7|          1.5|         0.2|Iris-setosa|[5.4,3.7,1.5,0.2]|\n",
            "| 12|          4.8|         3.4|          1.6|         0.2|Iris-setosa|[4.8,3.4,1.6,0.2]|\n",
            "| 13|          4.8|         3.0|          1.4|         0.1|Iris-setosa|[4.8,3.0,1.4,0.1]|\n",
            "| 14|          4.3|         3.0|          1.1|         0.1|Iris-setosa|[4.3,3.0,1.1,0.1]|\n",
            "| 15|          5.8|         4.0|          1.2|         0.2|Iris-setosa|[5.8,4.0,1.2,0.2]|\n",
            "| 16|          5.7|         4.4|          1.5|         0.4|Iris-setosa|[5.7,4.4,1.5,0.4]|\n",
            "| 17|          5.4|         3.9|          1.3|         0.4|Iris-setosa|[5.4,3.9,1.3,0.4]|\n",
            "| 18|          5.1|         3.5|          1.4|         0.3|Iris-setosa|[5.1,3.5,1.4,0.3]|\n",
            "| 19|          5.7|         3.8|          1.7|         0.3|Iris-setosa|[5.7,3.8,1.7,0.3]|\n",
            "| 20|          5.1|         3.8|          1.5|         0.3|Iris-setosa|[5.1,3.8,1.5,0.3]|\n",
            "+---+-------------+------------+-------------+------------+-----------+-----------------+\n",
            "only showing top 20 rows\n",
            "\n"
          ]
        }
      ]
    },
    {
      "cell_type": "code",
      "source": [
        "from pyspark.ml.feature import StringIndexer\n",
        "indexer = StringIndexer(inputCol='Species', outputCol='species_lbl')\n",
        "output_fit = indexer.fit(output).transform(output)"
      ],
      "metadata": {
        "id": "S_or7F7f_AXX"
      },
      "execution_count": 76,
      "outputs": []
    },
    {
      "cell_type": "code",
      "source": [
        "output_fit.show()"
      ],
      "metadata": {
        "colab": {
          "base_uri": "https://localhost:8080/"
        },
        "id": "5pmrKZ6-_3--",
        "outputId": "978c13c9-e617-4311-9d9d-2e366f3f3ac9"
      },
      "execution_count": 77,
      "outputs": [
        {
          "output_type": "stream",
          "name": "stdout",
          "text": [
            "+---+-------------+------------+-------------+------------+-----------+-----------------+-----------+\n",
            "| Id|SepalLengthCm|SepalWidthCm|PetalLengthCm|PetalWidthCm|    Species|       indp_feats|species_lbl|\n",
            "+---+-------------+------------+-------------+------------+-----------+-----------------+-----------+\n",
            "|  1|          5.1|         3.5|          1.4|         0.2|Iris-setosa|[5.1,3.5,1.4,0.2]|        0.0|\n",
            "|  2|          4.9|         3.0|          1.4|         0.2|Iris-setosa|[4.9,3.0,1.4,0.2]|        0.0|\n",
            "|  3|          4.7|         3.2|          1.3|         0.2|Iris-setosa|[4.7,3.2,1.3,0.2]|        0.0|\n",
            "|  4|          4.6|         3.1|          1.5|         0.2|Iris-setosa|[4.6,3.1,1.5,0.2]|        0.0|\n",
            "|  5|          5.0|         3.6|          1.4|         0.2|Iris-setosa|[5.0,3.6,1.4,0.2]|        0.0|\n",
            "|  6|          5.4|         3.9|          1.7|         0.4|Iris-setosa|[5.4,3.9,1.7,0.4]|        0.0|\n",
            "|  7|          4.6|         3.4|          1.4|         0.3|Iris-setosa|[4.6,3.4,1.4,0.3]|        0.0|\n",
            "|  8|          5.0|         3.4|          1.5|         0.2|Iris-setosa|[5.0,3.4,1.5,0.2]|        0.0|\n",
            "|  9|          4.4|         2.9|          1.4|         0.2|Iris-setosa|[4.4,2.9,1.4,0.2]|        0.0|\n",
            "| 10|          4.9|         3.1|          1.5|         0.1|Iris-setosa|[4.9,3.1,1.5,0.1]|        0.0|\n",
            "| 11|          5.4|         3.7|          1.5|         0.2|Iris-setosa|[5.4,3.7,1.5,0.2]|        0.0|\n",
            "| 12|          4.8|         3.4|          1.6|         0.2|Iris-setosa|[4.8,3.4,1.6,0.2]|        0.0|\n",
            "| 13|          4.8|         3.0|          1.4|         0.1|Iris-setosa|[4.8,3.0,1.4,0.1]|        0.0|\n",
            "| 14|          4.3|         3.0|          1.1|         0.1|Iris-setosa|[4.3,3.0,1.1,0.1]|        0.0|\n",
            "| 15|          5.8|         4.0|          1.2|         0.2|Iris-setosa|[5.8,4.0,1.2,0.2]|        0.0|\n",
            "| 16|          5.7|         4.4|          1.5|         0.4|Iris-setosa|[5.7,4.4,1.5,0.4]|        0.0|\n",
            "| 17|          5.4|         3.9|          1.3|         0.4|Iris-setosa|[5.4,3.9,1.3,0.4]|        0.0|\n",
            "| 18|          5.1|         3.5|          1.4|         0.3|Iris-setosa|[5.1,3.5,1.4,0.3]|        0.0|\n",
            "| 19|          5.7|         3.8|          1.7|         0.3|Iris-setosa|[5.7,3.8,1.7,0.3]|        0.0|\n",
            "| 20|          5.1|         3.8|          1.5|         0.3|Iris-setosa|[5.1,3.8,1.5,0.3]|        0.0|\n",
            "+---+-------------+------------+-------------+------------+-----------+-----------------+-----------+\n",
            "only showing top 20 rows\n",
            "\n"
          ]
        }
      ]
    },
    {
      "cell_type": "code",
      "source": [
        "fin_data = output_fit.select('indp_feats','species_lbl')"
      ],
      "metadata": {
        "id": "naKljq-h_62b"
      },
      "execution_count": 79,
      "outputs": []
    },
    {
      "cell_type": "code",
      "source": [
        "fin_data.show()"
      ],
      "metadata": {
        "colab": {
          "base_uri": "https://localhost:8080/"
        },
        "id": "DF1901fwARdM",
        "outputId": "2a622090-e343-4321-f92d-c619bff2d7ea"
      },
      "execution_count": 80,
      "outputs": [
        {
          "output_type": "stream",
          "name": "stdout",
          "text": [
            "+-----------------+-----------+\n",
            "|       indp_feats|species_lbl|\n",
            "+-----------------+-----------+\n",
            "|[5.1,3.5,1.4,0.2]|        0.0|\n",
            "|[4.9,3.0,1.4,0.2]|        0.0|\n",
            "|[4.7,3.2,1.3,0.2]|        0.0|\n",
            "|[4.6,3.1,1.5,0.2]|        0.0|\n",
            "|[5.0,3.6,1.4,0.2]|        0.0|\n",
            "|[5.4,3.9,1.7,0.4]|        0.0|\n",
            "|[4.6,3.4,1.4,0.3]|        0.0|\n",
            "|[5.0,3.4,1.5,0.2]|        0.0|\n",
            "|[4.4,2.9,1.4,0.2]|        0.0|\n",
            "|[4.9,3.1,1.5,0.1]|        0.0|\n",
            "|[5.4,3.7,1.5,0.2]|        0.0|\n",
            "|[4.8,3.4,1.6,0.2]|        0.0|\n",
            "|[4.8,3.0,1.4,0.1]|        0.0|\n",
            "|[4.3,3.0,1.1,0.1]|        0.0|\n",
            "|[5.8,4.0,1.2,0.2]|        0.0|\n",
            "|[5.7,4.4,1.5,0.4]|        0.0|\n",
            "|[5.4,3.9,1.3,0.4]|        0.0|\n",
            "|[5.1,3.5,1.4,0.3]|        0.0|\n",
            "|[5.7,3.8,1.7,0.3]|        0.0|\n",
            "|[5.1,3.8,1.5,0.3]|        0.0|\n",
            "+-----------------+-----------+\n",
            "only showing top 20 rows\n",
            "\n"
          ]
        }
      ]
    },
    {
      "cell_type": "code",
      "source": [
        "from pyspark.ml.regression import LinearRegression\n",
        "train, test = fin_data.randomSplit([0.8,0.2])\n",
        "lr = LinearRegression(featuresCol='indp_feats',labelCol='species_lbl')\n",
        "lr = lr.fit(train)"
      ],
      "metadata": {
        "id": "0TexiwmaAXLM"
      },
      "execution_count": 82,
      "outputs": []
    },
    {
      "cell_type": "code",
      "source": [
        "lr.coefficients"
      ],
      "metadata": {
        "colab": {
          "base_uri": "https://localhost:8080/"
        },
        "id": "k9TxUawGAwXB",
        "outputId": "74af1fdb-1f9e-41a7-b8f2-1cea3eca7e8c"
      },
      "execution_count": 83,
      "outputs": [
        {
          "output_type": "execute_result",
          "data": {
            "text/plain": [
              "DenseVector([-0.0117, -0.0944, 0.1945, 0.5878])"
            ]
          },
          "metadata": {},
          "execution_count": 83
        }
      ]
    },
    {
      "cell_type": "code",
      "source": [
        "lr.intercept"
      ],
      "metadata": {
        "colab": {
          "base_uri": "https://localhost:8080/"
        },
        "id": "IGwIPZ7bAz8K",
        "outputId": "fa4c9a55-a8c0-40cd-90fe-b9575dcc196a"
      },
      "execution_count": 84,
      "outputs": [
        {
          "output_type": "execute_result",
          "data": {
            "text/plain": [
              "-0.06922477476197456"
            ]
          },
          "metadata": {},
          "execution_count": 84
        }
      ]
    },
    {
      "cell_type": "code",
      "source": [
        "pred = lr.evaluate(test)"
      ],
      "metadata": {
        "id": "P6oP4X0dA124"
      },
      "execution_count": 85,
      "outputs": []
    },
    {
      "cell_type": "code",
      "source": [
        "pred.predictions.show()"
      ],
      "metadata": {
        "colab": {
          "base_uri": "https://localhost:8080/"
        },
        "id": "-afxKUKcA5xa",
        "outputId": "1176b60c-2665-4893-86cf-803b487d562b"
      },
      "execution_count": 86,
      "outputs": [
        {
          "output_type": "stream",
          "name": "stdout",
          "text": [
            "+-----------------+-----------+--------------------+\n",
            "|       indp_feats|species_lbl|          prediction|\n",
            "+-----------------+-----------+--------------------+\n",
            "|[4.3,3.0,1.1,0.1]|        0.0|-0.13012589141233516|\n",
            "|[4.5,2.3,1.3,0.3]|        0.0| 0.09008313676437646|\n",
            "|[4.9,2.5,4.5,1.7]|        2.0|  1.5118380193843406|\n",
            "|[4.9,3.0,1.4,0.2]|        0.0|-0.02002480713213...|\n",
            "|[5.0,2.0,3.5,1.0]|        1.0|  0.9519177172071485|\n",
            "|[5.0,3.5,1.6,0.6]|        0.0| 0.20561026398130447|\n",
            "|[5.1,2.5,3.0,1.1]|        1.0|  0.8650615571892473|\n",
            "|[5.1,3.5,1.4,0.3]|        0.0|-0.01079895656579...|\n",
            "|[5.4,3.4,1.5,0.4]|        0.0| 0.07335749296928437|\n",
            "|[5.4,3.9,1.3,0.4]|        0.0|-0.01275355303641...|\n",
            "|[5.5,2.3,4.0,1.3]|        1.0|   1.191323560528746|\n",
            "|[5.6,2.8,4.9,2.0]|        2.0|  1.7294498627735335|\n",
            "|[5.8,2.7,5.1,1.9]|        2.0|  1.7166712590073694|\n",
            "|[5.8,4.0,1.2,0.2]|        0.0|-0.16389015909791865|\n",
            "|[6.0,2.7,5.1,1.6]|        1.0|   1.537991861471539|\n",
            "|[6.2,2.2,4.5,1.5]|        1.0|  1.4073750942764296|\n",
            "|[6.2,2.8,4.8,1.8]|        2.0|   1.585411903495355|\n",
            "|[6.3,3.3,4.7,1.6]|        1.0|  1.4000225334469978|\n",
            "|[6.4,3.2,4.5,1.5]|        1.0|  1.3106126482875817|\n",
            "|[6.5,3.0,5.5,1.8]|        2.0|  1.6991682666706749|\n",
            "+-----------------+-----------+--------------------+\n",
            "only showing top 20 rows\n",
            "\n"
          ]
        }
      ]
    },
    {
      "cell_type": "code",
      "source": [
        "pred.meanSquaredError"
      ],
      "metadata": {
        "colab": {
          "base_uri": "https://localhost:8080/"
        },
        "id": "HfDtNaoiA9N2",
        "outputId": "fd8827d8-50f2-4218-b4af-da4105377d27"
      },
      "execution_count": 87,
      "outputs": [
        {
          "output_type": "execute_result",
          "data": {
            "text/plain": [
              "0.07574525743536356"
            ]
          },
          "metadata": {},
          "execution_count": 87
        }
      ]
    },
    {
      "cell_type": "markdown",
      "source": [
        "### Databricks"
      ],
      "metadata": {
        "id": "FrEkEessBmLa"
      }
    },
    {
      "cell_type": "markdown",
      "source": [
        "Created a databricks cluster and performed MultiLinearRegression"
      ],
      "metadata": {
        "id": "0pNC3c9xEwum"
      }
    }
  ]
}